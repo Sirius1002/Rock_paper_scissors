{
  "nbformat": 4,
  "nbformat_minor": 0,
  "metadata": {
    "colab": {
      "provenance": [],
      "authorship_tag": "ABX9TyN71VuVeZmA3aVtK6+PBwiz",
      "include_colab_link": true
    },
    "kernelspec": {
      "name": "python3",
      "display_name": "Python 3"
    },
    "language_info": {
      "name": "python"
    }
  },
  "cells": [
    {
      "cell_type": "markdown",
      "metadata": {
        "id": "view-in-github",
        "colab_type": "text"
      },
      "source": [
        "<a href=\"https://colab.research.google.com/github/Sirius1002/Rock_paper_scissors/blob/main/Rock_papers_scissors.ipynb\" target=\"_parent\"><img src=\"https://colab.research.google.com/assets/colab-badge.svg\" alt=\"Open In Colab\"/></a>"
      ]
    },
    {
      "cell_type": "code",
      "execution_count": 8,
      "metadata": {
        "colab": {
          "base_uri": "https://localhost:8080/"
        },
        "id": "zRwc1cLkentK",
        "outputId": "79661ece-b27c-4b67-f24f-9eff7c0a6bf0"
      },
      "outputs": [
        {
          "output_type": "stream",
          "name": "stdout",
          "text": [
            "Enter a choice (rock, paper, scissors): rock\n",
            "Player: rock\n",
            "Computer: rock\n",
            "It's a tie!\n",
            "Play again? (y/n): y\n",
            "Enter a choice (rock, paper, scissors): paper\n",
            "Player: paper\n",
            "Computer: rock\n",
            "You win!\n",
            "Play again? (y/n): y\n",
            "Enter a choice (rock, paper, scissors): y\n",
            "Enter a choice (rock, paper, scissors): rock\n",
            "Player: rock\n",
            "Computer: scissors\n",
            "You win!\n",
            "Play again? (y/n): n\n",
            "Thanks for playing!\n"
          ]
        }
      ],
      "source": [
        "import random\n",
        "\n",
        "options = (\"rock\", \"paper\", \"scissors\")\n",
        "running = True\n",
        "\n",
        "while running:\n",
        "\n",
        "    player = None\n",
        "    computer = random.choice(options)\n",
        "\n",
        "    while player not in options:\n",
        "         player = input(\"Enter a choice (rock, paper, scissors): \")\n",
        "\n",
        "    print(f\"Player: {player}\")\n",
        "    print(f\"Computer: {computer}\")\n",
        "\n",
        "    if player == computer:\n",
        "        print(\"It's a tie!\")\n",
        "    elif player == \"rock\" and computer == \"scissors\":\n",
        "        print(\"You win!\")\n",
        "    elif player == \"paper\" and computer == \"rock\":\n",
        "        print(\"You win!\")\n",
        "    elif player == \"scissors\" and computer == \"paper\":\n",
        "        print(\"You win!\")\n",
        "    else:\n",
        "        print(\"You lose!\")\n",
        "\n",
        "    if not input(\"Play again? (y/n): \").lower() == \"y\":\n",
        "        running = False\n",
        "\n",
        "print(\"Thanks for playing!\")"
      ]
    }
  ]
}